{
 "cells": [
  {
   "cell_type": "code",
   "execution_count": 1,
   "id": "96d237ab",
   "metadata": {
    "_cell_guid": "b1076dfc-b9ad-4769-8c92-a6c4dae69d19",
    "_uuid": "8f2839f25d086af736a60e9eeb907d3b93b6e0e5",
    "execution": {
     "iopub.execute_input": "2024-07-19T06:22:17.295953Z",
     "iopub.status.busy": "2024-07-19T06:22:17.295514Z",
     "iopub.status.idle": "2024-07-19T06:22:19.976106Z",
     "shell.execute_reply": "2024-07-19T06:22:19.974670Z"
    },
    "papermill": {
     "duration": 2.691103,
     "end_time": "2024-07-19T06:22:19.979302",
     "exception": false,
     "start_time": "2024-07-19T06:22:17.288199",
     "status": "completed"
    },
    "tags": []
   },
   "outputs": [],
   "source": [
    "import numpy as np\n",
    "import pandas as pd\n",
    "import matplotlib.pyplot as plt\n",
    "import seaborn as sb"
   ]
  },
  {
   "cell_type": "code",
   "execution_count": 2,
   "id": "066c4706",
   "metadata": {
    "execution": {
     "iopub.execute_input": "2024-07-19T06:22:19.991168Z",
     "iopub.status.busy": "2024-07-19T06:22:19.990490Z",
     "iopub.status.idle": "2024-07-19T06:22:20.052872Z",
     "shell.execute_reply": "2024-07-19T06:22:20.051426Z"
    },
    "papermill": {
     "duration": 0.071296,
     "end_time": "2024-07-19T06:22:20.055543",
     "exception": false,
     "start_time": "2024-07-19T06:22:19.984247",
     "status": "completed"
    },
    "tags": []
   },
   "outputs": [
    {
     "name": "stdout",
     "output_type": "stream",
     "text": [
      "<class 'pandas.core.frame.DataFrame'>\n",
      "RangeIndex: 768 entries, 0 to 767\n",
      "Data columns (total 9 columns):\n",
      " #   Column                    Non-Null Count  Dtype  \n",
      "---  ------                    --------------  -----  \n",
      " 0   Pregnancies               768 non-null    int64  \n",
      " 1   Glucose                   768 non-null    int64  \n",
      " 2   BloodPressure             768 non-null    int64  \n",
      " 3   SkinThickness             768 non-null    int64  \n",
      " 4   Insulin                   768 non-null    int64  \n",
      " 5   BMI                       768 non-null    float64\n",
      " 6   DiabetesPedigreeFunction  768 non-null    float64\n",
      " 7   Age                       768 non-null    int64  \n",
      " 8   Outcome                   768 non-null    int64  \n",
      "dtypes: float64(2), int64(7)\n",
      "memory usage: 54.1 KB\n"
     ]
    }
   ],
   "source": [
    "dataset = pd.read_csv(\"/kaggle/input/pima-indians-diabetes-database/diabetes.csv\")\n",
    "dataset.info()"
   ]
  },
  {
   "cell_type": "code",
   "execution_count": 3,
   "id": "79050592",
   "metadata": {
    "execution": {
     "iopub.execute_input": "2024-07-19T06:22:20.067419Z",
     "iopub.status.busy": "2024-07-19T06:22:20.066122Z",
     "iopub.status.idle": "2024-07-19T06:22:20.121209Z",
     "shell.execute_reply": "2024-07-19T06:22:20.119925Z"
    },
    "papermill": {
     "duration": 0.063942,
     "end_time": "2024-07-19T06:22:20.123985",
     "exception": false,
     "start_time": "2024-07-19T06:22:20.060043",
     "status": "completed"
    },
    "tags": []
   },
   "outputs": [
    {
     "data": {
      "text/html": [
       "<div>\n",
       "<style scoped>\n",
       "    .dataframe tbody tr th:only-of-type {\n",
       "        vertical-align: middle;\n",
       "    }\n",
       "\n",
       "    .dataframe tbody tr th {\n",
       "        vertical-align: top;\n",
       "    }\n",
       "\n",
       "    .dataframe thead th {\n",
       "        text-align: right;\n",
       "    }\n",
       "</style>\n",
       "<table border=\"1\" class=\"dataframe\">\n",
       "  <thead>\n",
       "    <tr style=\"text-align: right;\">\n",
       "      <th></th>\n",
       "      <th>Pregnancies</th>\n",
       "      <th>Glucose</th>\n",
       "      <th>BloodPressure</th>\n",
       "      <th>SkinThickness</th>\n",
       "      <th>Insulin</th>\n",
       "      <th>BMI</th>\n",
       "      <th>DiabetesPedigreeFunction</th>\n",
       "      <th>Age</th>\n",
       "      <th>Outcome</th>\n",
       "    </tr>\n",
       "  </thead>\n",
       "  <tbody>\n",
       "    <tr>\n",
       "      <th>count</th>\n",
       "      <td>768.000000</td>\n",
       "      <td>768.000000</td>\n",
       "      <td>768.000000</td>\n",
       "      <td>768.000000</td>\n",
       "      <td>768.000000</td>\n",
       "      <td>768.000000</td>\n",
       "      <td>768.000000</td>\n",
       "      <td>768.000000</td>\n",
       "      <td>768.000000</td>\n",
       "    </tr>\n",
       "    <tr>\n",
       "      <th>mean</th>\n",
       "      <td>3.845052</td>\n",
       "      <td>120.894531</td>\n",
       "      <td>69.105469</td>\n",
       "      <td>20.536458</td>\n",
       "      <td>79.799479</td>\n",
       "      <td>31.992578</td>\n",
       "      <td>0.471876</td>\n",
       "      <td>33.240885</td>\n",
       "      <td>0.348958</td>\n",
       "    </tr>\n",
       "    <tr>\n",
       "      <th>std</th>\n",
       "      <td>3.369578</td>\n",
       "      <td>31.972618</td>\n",
       "      <td>19.355807</td>\n",
       "      <td>15.952218</td>\n",
       "      <td>115.244002</td>\n",
       "      <td>7.884160</td>\n",
       "      <td>0.331329</td>\n",
       "      <td>11.760232</td>\n",
       "      <td>0.476951</td>\n",
       "    </tr>\n",
       "    <tr>\n",
       "      <th>min</th>\n",
       "      <td>0.000000</td>\n",
       "      <td>0.000000</td>\n",
       "      <td>0.000000</td>\n",
       "      <td>0.000000</td>\n",
       "      <td>0.000000</td>\n",
       "      <td>0.000000</td>\n",
       "      <td>0.078000</td>\n",
       "      <td>21.000000</td>\n",
       "      <td>0.000000</td>\n",
       "    </tr>\n",
       "    <tr>\n",
       "      <th>25%</th>\n",
       "      <td>1.000000</td>\n",
       "      <td>99.000000</td>\n",
       "      <td>62.000000</td>\n",
       "      <td>0.000000</td>\n",
       "      <td>0.000000</td>\n",
       "      <td>27.300000</td>\n",
       "      <td>0.243750</td>\n",
       "      <td>24.000000</td>\n",
       "      <td>0.000000</td>\n",
       "    </tr>\n",
       "    <tr>\n",
       "      <th>50%</th>\n",
       "      <td>3.000000</td>\n",
       "      <td>117.000000</td>\n",
       "      <td>72.000000</td>\n",
       "      <td>23.000000</td>\n",
       "      <td>30.500000</td>\n",
       "      <td>32.000000</td>\n",
       "      <td>0.372500</td>\n",
       "      <td>29.000000</td>\n",
       "      <td>0.000000</td>\n",
       "    </tr>\n",
       "    <tr>\n",
       "      <th>75%</th>\n",
       "      <td>6.000000</td>\n",
       "      <td>140.250000</td>\n",
       "      <td>80.000000</td>\n",
       "      <td>32.000000</td>\n",
       "      <td>127.250000</td>\n",
       "      <td>36.600000</td>\n",
       "      <td>0.626250</td>\n",
       "      <td>41.000000</td>\n",
       "      <td>1.000000</td>\n",
       "    </tr>\n",
       "    <tr>\n",
       "      <th>max</th>\n",
       "      <td>17.000000</td>\n",
       "      <td>199.000000</td>\n",
       "      <td>122.000000</td>\n",
       "      <td>99.000000</td>\n",
       "      <td>846.000000</td>\n",
       "      <td>67.100000</td>\n",
       "      <td>2.420000</td>\n",
       "      <td>81.000000</td>\n",
       "      <td>1.000000</td>\n",
       "    </tr>\n",
       "  </tbody>\n",
       "</table>\n",
       "</div>"
      ],
      "text/plain": [
       "       Pregnancies     Glucose  BloodPressure  SkinThickness     Insulin  \\\n",
       "count   768.000000  768.000000     768.000000     768.000000  768.000000   \n",
       "mean      3.845052  120.894531      69.105469      20.536458   79.799479   \n",
       "std       3.369578   31.972618      19.355807      15.952218  115.244002   \n",
       "min       0.000000    0.000000       0.000000       0.000000    0.000000   \n",
       "25%       1.000000   99.000000      62.000000       0.000000    0.000000   \n",
       "50%       3.000000  117.000000      72.000000      23.000000   30.500000   \n",
       "75%       6.000000  140.250000      80.000000      32.000000  127.250000   \n",
       "max      17.000000  199.000000     122.000000      99.000000  846.000000   \n",
       "\n",
       "              BMI  DiabetesPedigreeFunction         Age     Outcome  \n",
       "count  768.000000                768.000000  768.000000  768.000000  \n",
       "mean    31.992578                  0.471876   33.240885    0.348958  \n",
       "std      7.884160                  0.331329   11.760232    0.476951  \n",
       "min      0.000000                  0.078000   21.000000    0.000000  \n",
       "25%     27.300000                  0.243750   24.000000    0.000000  \n",
       "50%     32.000000                  0.372500   29.000000    0.000000  \n",
       "75%     36.600000                  0.626250   41.000000    1.000000  \n",
       "max     67.100000                  2.420000   81.000000    1.000000  "
      ]
     },
     "execution_count": 3,
     "metadata": {},
     "output_type": "execute_result"
    }
   ],
   "source": [
    "dataset.describe()"
   ]
  },
  {
   "cell_type": "code",
   "execution_count": 4,
   "id": "c1d4acbe",
   "metadata": {
    "execution": {
     "iopub.execute_input": "2024-07-19T06:22:20.135920Z",
     "iopub.status.busy": "2024-07-19T06:22:20.135516Z",
     "iopub.status.idle": "2024-07-19T06:22:20.147000Z",
     "shell.execute_reply": "2024-07-19T06:22:20.145730Z"
    },
    "papermill": {
     "duration": 0.020524,
     "end_time": "2024-07-19T06:22:20.149471",
     "exception": false,
     "start_time": "2024-07-19T06:22:20.128947",
     "status": "completed"
    },
    "tags": []
   },
   "outputs": [
    {
     "data": {
      "text/plain": [
       "Outcome\n",
       "0    500\n",
       "1    268\n",
       "Name: count, dtype: int64"
      ]
     },
     "execution_count": 4,
     "metadata": {},
     "output_type": "execute_result"
    }
   ],
   "source": [
    "dataset[\"Outcome\"].value_counts()"
   ]
  },
  {
   "cell_type": "code",
   "execution_count": 5,
   "id": "cc1be5d4",
   "metadata": {
    "execution": {
     "iopub.execute_input": "2024-07-19T06:22:20.162527Z",
     "iopub.status.busy": "2024-07-19T06:22:20.161452Z",
     "iopub.status.idle": "2024-07-19T06:22:20.857134Z",
     "shell.execute_reply": "2024-07-19T06:22:20.855935Z"
    },
    "papermill": {
     "duration": 0.705136,
     "end_time": "2024-07-19T06:22:20.859816",
     "exception": false,
     "start_time": "2024-07-19T06:22:20.154680",
     "status": "completed"
    },
    "tags": []
   },
   "outputs": [
    {
     "data": {
      "text/plain": [
       "(array([[768.,   0.,   0.,   0.,   0.,   0.,   0.,   0.,   0.,   0.,   0.,\n",
       "           0.,   0.,   0.,   0.],\n",
       "        [  7., 340., 350.,  71.,   0.,   0.,   0.,   0.,   0.,   0.,   0.,\n",
       "           0.,   0.,   0.,   0.],\n",
       "        [100., 666.,   2.,   0.,   0.,   0.,   0.,   0.,   0.,   0.,   0.,\n",
       "           0.,   0.,   0.,   0.],\n",
       "        [765.,   3.,   0.,   0.,   0.,   0.,   0.,   0.,   0.,   0.,   0.,\n",
       "           0.,   0.,   0.,   0.],\n",
       "        [429., 118.,  95.,  58.,  24.,  18.,   6.,   3.,   8.,   4.,   2.,\n",
       "           0.,   1.,   1.,   1.],\n",
       "        [765.,   3.,   0.,   0.,   0.,   0.,   0.,   0.,   0.,   0.,   0.,\n",
       "           0.,   0.,   0.,   0.],\n",
       "        [768.,   0.,   0.,   0.,   0.,   0.,   0.,   0.,   0.,   0.,   0.,\n",
       "           0.,   0.,   0.,   0.],\n",
       "        [721.,  47.,   0.,   0.,   0.,   0.,   0.,   0.,   0.,   0.,   0.,\n",
       "           0.,   0.,   0.,   0.],\n",
       "        [768.,   0.,   0.,   0.,   0.,   0.,   0.,   0.,   0.,   0.,   0.,\n",
       "           0.,   0.,   0.,   0.]]),\n",
       " array([  0. ,  56.4, 112.8, 169.2, 225.6, 282. , 338.4, 394.8, 451.2,\n",
       "        507.6, 564. , 620.4, 676.8, 733.2, 789.6, 846. ]),\n",
       " <a list of 9 BarContainer objects>)"
      ]
     },
     "execution_count": 5,
     "metadata": {},
     "output_type": "execute_result"
    },
    {
     "data": {
      "image/png": "[encoded data removed]",
      "text/plain": [
       "<Figure size 640x480 with 1 Axes>"
      ]
     },
     "metadata": {},
     "output_type": "display_data"
    }
   ],
   "source": [
    "plt.hist(dataset, bins=15)"
   ]
  },
  {
   "cell_type": "code",
   "execution_count": 6,
   "id": "8a5ef49c",
   "metadata": {
    "execution": {
     "iopub.execute_input": "2024-07-19T06:22:20.874916Z",
     "iopub.status.busy": "2024-07-19T06:22:20.873434Z",
     "iopub.status.idle": "2024-07-19T06:22:20.880134Z",
     "shell.execute_reply": "2024-07-19T06:22:20.878691Z"
    },
    "papermill": {
     "duration": 0.017392,
     "end_time": "2024-07-19T06:22:20.883032",
     "exception": false,
     "start_time": "2024-07-19T06:22:20.865640",
     "status": "completed"
    },
    "tags": []
   },
   "outputs": [],
   "source": [
    "Age = dataset[\"Age\"]\n",
    "Insulin = dataset[\"Insulin\"]"
   ]
  },
  {
   "cell_type": "code",
   "execution_count": 7,
   "id": "f28c84bf",
   "metadata": {
    "execution": {
     "iopub.execute_input": "2024-07-19T06:22:20.897557Z",
     "iopub.status.busy": "2024-07-19T06:22:20.897112Z",
     "iopub.status.idle": "2024-07-19T06:22:21.184024Z",
     "shell.execute_reply": "2024-07-19T06:22:21.182670Z"
    },
    "papermill": {
     "duration": 0.297452,
     "end_time": "2024-07-19T06:22:21.186724",
     "exception": false,
     "start_time": "2024-07-19T06:22:20.889272",
     "status": "completed"
    },
    "tags": []
   },
   "outputs": [
    {
     "data": {
      "image/png": "[encoded data removed]",
      "text/plain": [
       "<Figure size 640x480 with 1 Axes>"
      ]
     },
     "metadata": {},
     "output_type": "display_data"
    }
   ],
   "source": [
    "plt.scatter(Age, Insulin)\n",
    "plt.xlabel\n",
    "plt.ylabel\n",
    "plt.title\n",
    "plt.show()"
   ]
  },
  {
   "cell_type": "code",
   "execution_count": 8,
   "id": "67f0d047",
   "metadata": {
    "execution": {
     "iopub.execute_input": "2024-07-19T06:22:21.201475Z",
     "iopub.status.busy": "2024-07-19T06:22:21.200953Z",
     "iopub.status.idle": "2024-07-19T06:22:21.511440Z",
     "shell.execute_reply": "2024-07-19T06:22:21.509861Z"
    },
    "papermill": {
     "duration": 0.321312,
     "end_time": "2024-07-19T06:22:21.514372",
     "exception": false,
     "start_time": "2024-07-19T06:22:21.193060",
     "status": "completed"
    },
    "tags": []
   },
   "outputs": [
    {
     "data": {
      "image/png": "[encoded data removed]",
      "text/plain": [
       "<Figure size 640x480 with 1 Axes>"
      ]
     },
     "metadata": {},
     "output_type": "display_data"
    }
   ],
   "source": [
    "plt.boxplot(dataset)\n",
    "\n",
    "plt.xlabel\n",
    "plt.ylabel\n",
    "plt.title\n",
    "plt.show()"
   ]
  },
  {
   "cell_type": "code",
   "execution_count": 9,
   "id": "7c133c4a",
   "metadata": {
    "execution": {
     "iopub.execute_input": "2024-07-19T06:22:21.530634Z",
     "iopub.status.busy": "2024-07-19T06:22:21.529474Z",
     "iopub.status.idle": "2024-07-19T06:22:21.740887Z",
     "shell.execute_reply": "2024-07-19T06:22:21.739212Z"
    },
    "papermill": {
     "duration": 0.223423,
     "end_time": "2024-07-19T06:22:21.744452",
     "exception": false,
     "start_time": "2024-07-19T06:22:21.521029",
     "status": "completed"
    },
    "tags": []
   },
   "outputs": [
    {
     "data": {
      "image/png": "[encoded data removed]",
      "text/plain": [
       "<Figure size 640x480 with 1 Axes>"
      ]
     },
     "metadata": {},
     "output_type": "display_data"
    }
   ],
   "source": [
    "plt.boxplot(Age)\n",
    "\n",
    "plt.xlabel\n",
    "plt.ylabel\n",
    "plt.title\n",
    "plt.show()"
   ]
  },
  {
   "cell_type": "code",
   "execution_count": 10,
   "id": "8303671f",
   "metadata": {
    "execution": {
     "iopub.execute_input": "2024-07-19T06:22:21.761917Z",
     "iopub.status.busy": "2024-07-19T06:22:21.761540Z",
     "iopub.status.idle": "2024-07-19T06:22:21.967259Z",
     "shell.execute_reply": "2024-07-19T06:22:21.965859Z"
    },
    "papermill": {
     "duration": 0.217939,
     "end_time": "2024-07-19T06:22:21.970176",
     "exception": false,
     "start_time": "2024-07-19T06:22:21.752237",
     "status": "completed"
    },
    "tags": []
   },
   "outputs": [
    {
     "data": {
      "image/png": "[encoded data removed]",
      "text/plain": [
       "<Figure size 640x480 with 1 Axes>"
      ]
     },
     "metadata": {},
     "output_type": "display_data"
    }
   ],
   "source": [
    "plt.boxplot(Insulin)\n",
    "\n",
    "plt.xlabel\n",
    "plt.ylabel\n",
    "plt.title\n",
    "plt.show()"
   ]
  }
 ],
 "metadata": {
  "kaggle": {
   "accelerator": "none",
   "dataSources": [
    {
     "datasetId": 228,
     "sourceId": 482,
     "sourceType": "datasetVersion"
    },
    {
     "datasetId": 14370,
     "sourceId": 19291,
     "sourceType": "datasetVersion"
    }
   ],
   "dockerImageVersionId": 30746,
   "isGpuEnabled": false,
   "isInternetEnabled": false,
   "language": "python",
   "sourceType": "notebook"
  },
  "kernelspec": {
   "display_name": "Python 3",
   "language": "python",
   "name": "python3"
  },
  "language_info": {
   "codemirror_mode": {
    "name": "ipython",
    "version": 3
   },
   "file_extension": ".py",
   "mimetype": "text/x-python",
   "name": "python",
   "nbconvert_exporter": "python",
   "pygments_lexer": "ipython3",
   "version": "3.10.13"
  },
  "papermill": {
   "default_parameters": {},
   "duration": 8.862048,
   "end_time": "2024-07-19T06:22:22.704214",
   "environment_variables": {},
   "exception": null,
   "input_path": "__notebook__.ipynb",
   "output_path": "__notebook__.ipynb",
   "parameters": {},
   "start_time": "2024-07-19T06:22:13.842166",
   "version": "2.5.0"
  }
 },
 "nbformat": 4,
 "nbformat_minor": 5
}
